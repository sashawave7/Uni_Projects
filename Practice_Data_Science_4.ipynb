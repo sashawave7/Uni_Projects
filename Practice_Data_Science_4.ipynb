{
 "cells": [
  {
   "cell_type": "code",
   "execution_count": 1,
   "id": "61eeb80b",
   "metadata": {},
   "outputs": [],
   "source": [
    "import pandas as pd\n",
    "import matplotlib.pyplot as plt\n",
    "import numpy as np\n",
    "import seaborn as sn"
   ]
  },
  {
   "cell_type": "code",
   "execution_count": 2,
   "id": "2703938e",
   "metadata": {},
   "outputs": [
    {
     "data": {
      "text/plain": [
       "['Growth Duration', 'Fertilizer']"
      ]
     },
     "execution_count": 2,
     "metadata": {},
     "output_type": "execute_result"
    }
   ],
   "source": [
    "avocado_info = pd.read_csv('avocado_info.csv')\n",
    "list(avocado_info.columns.values)"
   ]
  },
  {
   "cell_type": "code",
   "execution_count": 9,
   "id": "89b0d73f",
   "metadata": {},
   "outputs": [],
   "source": [
    "fertilized = avocado_info.loc[avocado_info['Fertilizer'] == True]\n",
    "not_fertilized = avocado_info.loc[avocado_info['Fertilizer'] == False]"
   ]
  },
  {
   "cell_type": "code",
   "execution_count": 17,
   "id": "be16659d",
   "metadata": {
    "scrolled": true
   },
   "outputs": [
    {
     "data": {
      "image/png": "[encoded data removed]",
      "text/plain": [
       "<Figure size 640x480 with 1 Axes>"
      ]
     },
     "metadata": {},
     "output_type": "display_data"
    }
   ],
   "source": [
    "sn.histplot(fertilized['Growth Duration'], kde = False, label = 'Fertilized')\n",
    "sn.histplot(not_fertilized['Growth Duration'], kde = False, label = 'Not Fertilized')\n",
    "\n",
    "plt.legend()\n",
    "\n",
    "plt.show()"
   ]
  },
  {
   "cell_type": "code",
   "execution_count": 18,
   "id": "7090ade6",
   "metadata": {},
   "outputs": [],
   "source": [
    "observed_test_stat = np.mean(fertilized['Growth Duration'] - np.mean(not_fertilized['Growth Duration']))"
   ]
  },
  {
   "cell_type": "code",
   "execution_count": 19,
   "id": "91982822",
   "metadata": {},
   "outputs": [
    {
     "data": {
      "text/plain": [
       "-0.6100359955807343"
      ]
     },
     "execution_count": 19,
     "metadata": {},
     "output_type": "execute_result"
    }
   ],
   "source": [
    "observed_test_stat"
   ]
  },
  {
   "cell_type": "code",
   "execution_count": 20,
   "id": "70c053e0",
   "metadata": {},
   "outputs": [
    {
     "data": {
      "text/plain": [
       "430     272\n",
       "514     289\n",
       "703     272\n",
       "1100    276\n",
       "1044    290\n",
       "       ... \n",
       "1147    288\n",
       "1036    290\n",
       "1468    274\n",
       "690     287\n",
       "1172    292\n",
       "Name: Growth Duration, Length: 1700, dtype: int64"
      ]
     },
     "execution_count": 20,
     "metadata": {},
     "output_type": "execute_result"
    }
   ],
   "source": [
    "avocado_info['Growth Duration'].sample(frac = 1)"
   ]
  },
  {
   "cell_type": "code",
   "execution_count": 21,
   "id": "ad22a936",
   "metadata": {},
   "outputs": [
    {
     "data": {
      "text/html": [
       "<div>\n",
       "<style scoped>\n",
       "    .dataframe tbody tr th:only-of-type {\n",
       "        vertical-align: middle;\n",
       "    }\n",
       "\n",
       "    .dataframe tbody tr th {\n",
       "        vertical-align: top;\n",
       "    }\n",
       "\n",
       "    .dataframe thead th {\n",
       "        text-align: right;\n",
       "    }\n",
       "</style>\n",
       "<table border=\"1\" class=\"dataframe\">\n",
       "  <thead>\n",
       "    <tr style=\"text-align: right;\">\n",
       "      <th></th>\n",
       "      <th>index</th>\n",
       "      <th>Growth Duration</th>\n",
       "    </tr>\n",
       "  </thead>\n",
       "  <tbody>\n",
       "    <tr>\n",
       "      <th>0</th>\n",
       "      <td>122</td>\n",
       "      <td>294</td>\n",
       "    </tr>\n",
       "    <tr>\n",
       "      <th>1</th>\n",
       "      <td>1409</td>\n",
       "      <td>295</td>\n",
       "    </tr>\n",
       "    <tr>\n",
       "      <th>2</th>\n",
       "      <td>1345</td>\n",
       "      <td>289</td>\n",
       "    </tr>\n",
       "    <tr>\n",
       "      <th>3</th>\n",
       "      <td>36</td>\n",
       "      <td>293</td>\n",
       "    </tr>\n",
       "    <tr>\n",
       "      <th>4</th>\n",
       "      <td>236</td>\n",
       "      <td>294</td>\n",
       "    </tr>\n",
       "    <tr>\n",
       "      <th>...</th>\n",
       "      <td>...</td>\n",
       "      <td>...</td>\n",
       "    </tr>\n",
       "    <tr>\n",
       "      <th>1695</th>\n",
       "      <td>1110</td>\n",
       "      <td>283</td>\n",
       "    </tr>\n",
       "    <tr>\n",
       "      <th>1696</th>\n",
       "      <td>108</td>\n",
       "      <td>296</td>\n",
       "    </tr>\n",
       "    <tr>\n",
       "      <th>1697</th>\n",
       "      <td>505</td>\n",
       "      <td>278</td>\n",
       "    </tr>\n",
       "    <tr>\n",
       "      <th>1698</th>\n",
       "      <td>1387</td>\n",
       "      <td>300</td>\n",
       "    </tr>\n",
       "    <tr>\n",
       "      <th>1699</th>\n",
       "      <td>795</td>\n",
       "      <td>279</td>\n",
       "    </tr>\n",
       "  </tbody>\n",
       "</table>\n",
       "<p>1700 rows × 2 columns</p>\n",
       "</div>"
      ],
      "text/plain": [
       "      index  Growth Duration\n",
       "0       122              294\n",
       "1      1409              295\n",
       "2      1345              289\n",
       "3        36              293\n",
       "4       236              294\n",
       "...     ...              ...\n",
       "1695   1110              283\n",
       "1696    108              296\n",
       "1697    505              278\n",
       "1698   1387              300\n",
       "1699    795              279\n",
       "\n",
       "[1700 rows x 2 columns]"
      ]
     },
     "execution_count": 21,
     "metadata": {},
     "output_type": "execute_result"
    }
   ],
   "source": [
    "avocado_info['Growth Duration'].sample(frac = 1).reset_index()"
   ]
  },
  {
   "cell_type": "code",
   "execution_count": 22,
   "id": "a01b909c",
   "metadata": {},
   "outputs": [
    {
     "data": {
      "text/plain": [
       "0       274\n",
       "1       296\n",
       "2       285\n",
       "3       273\n",
       "4       278\n",
       "       ... \n",
       "1695    295\n",
       "1696    296\n",
       "1697    280\n",
       "1698    278\n",
       "1699    299\n",
       "Name: Growth Duration, Length: 1700, dtype: int64"
      ]
     },
     "execution_count": 22,
     "metadata": {},
     "output_type": "execute_result"
    }
   ],
   "source": [
    "avocado_info['Growth Duration'].sample(frac = 1).reset_index(drop = True)"
   ]
  },
  {
   "cell_type": "code",
   "execution_count": 23,
   "id": "929794c7",
   "metadata": {},
   "outputs": [],
   "source": [
    "def perm(data):\n",
    "    return data.sample(frac = 1).reset_index(drop = True)"
   ]
  },
  {
   "cell_type": "code",
   "execution_count": 24,
   "id": "a202ee77",
   "metadata": {},
   "outputs": [],
   "source": [
    "sim_test_stat = np.array([])\n",
    "\n",
    "reps = 10000\n",
    "\n",
    "for i in range(reps):\n",
    "    perm_info = perm(avocado_info['Growth Duration'])\n",
    "    \n",
    "    df = pd.DataFrame({'Permuted Duration': perm_info, 'Fertilizer': avocado_info['Fertilizer']})\n",
    "    \n",
    "    fertilized = df.loc[df['Fertilizer'] == True, 'Permuted Duration']\n",
    "    not_fertilized = df.loc[df['Fertilizer'] == False, 'Permuted Duration']\n",
    "    \n",
    "    stat = np.mean(fertilized) - np.mean(not_fertilized)\n",
    "    \n",
    "    sim_test_stat = np.append(sim_test_stat, stat)"
   ]
  },
  {
   "cell_type": "code",
   "execution_count": 27,
   "id": "a0bd5ada",
   "metadata": {},
   "outputs": [
    {
     "data": {
      "text/plain": [
       "array([ 0.01279447,  0.18001354, -0.55914323, ..., -0.0720268 ,\n",
       "        0.53383941,  0.52656902])"
      ]
     },
     "execution_count": 27,
     "metadata": {},
     "output_type": "execute_result"
    }
   ],
   "source": [
    "sim_test_stat"
   ]
  },
  {
   "cell_type": "code",
   "execution_count": 28,
   "id": "5d7c5490",
   "metadata": {},
   "outputs": [],
   "source": [
    "p_value = np.count_nonzero(sim_test_stat <= observed_test_stat) / reps"
   ]
  },
  {
   "cell_type": "code",
   "execution_count": 29,
   "id": "12e3c289",
   "metadata": {},
   "outputs": [
    {
     "data": {
      "text/plain": [
       "0.0759"
      ]
     },
     "execution_count": 29,
     "metadata": {},
     "output_type": "execute_result"
    }
   ],
   "source": [
    "p_value"
   ]
  },
  {
   "cell_type": "code",
   "execution_count": 30,
   "id": "335174c7",
   "metadata": {},
   "outputs": [],
   "source": [
    "fertilized = avocado_info.loc[avocado_info['Fertilizer'] == True, 'Growth Duration']\n",
    "not_fertilized = avocado_info.loc[avocado_info['Fertilizer'] == False, 'Growth Duration']"
   ]
  },
  {
   "cell_type": "code",
   "execution_count": 31,
   "id": "58c70da5",
   "metadata": {},
   "outputs": [
    {
     "data": {
      "text/plain": [
       "array([279, 272, 272, 273, 293, 275, 292, 271, 273, 273, 281, 276, 272,\n",
       "       291, 280, 288, 284, 299, 275, 275, 289, 289, 293, 278, 278, 271,\n",
       "       296, 294, 300, 299, 287, 289, 274, 295, 271, 275, 275, 275, 282,\n",
       "       299, 292, 274, 300, 288, 291, 293, 283, 281, 275, 298, 298, 275,\n",
       "       277, 281, 272, 295, 276, 295, 276, 294, 278, 288, 271, 300, 278,\n",
       "       277, 280, 291, 283, 286, 300, 286, 274, 282, 272, 287, 277, 282,\n",
       "       292, 283, 296, 298, 296, 278, 273, 277, 271, 280, 294, 294, 299,\n",
       "       278, 273, 280, 274, 273, 273, 282, 300, 278, 277, 283, 271, 295,\n",
       "       290, 287, 275, 290, 297, 298, 275, 271, 279, 297, 300, 294, 279,\n",
       "       286, 286, 274, 293, 295, 290, 278, 294, 283, 294, 294, 297, 282,\n",
       "       272, 283, 275, 297, 273, 280, 273, 286, 287, 274, 292, 295, 295,\n",
       "       299, 300, 283, 288, 289, 290, 297, 295, 273, 292, 275, 282, 288,\n",
       "       290, 286, 275, 292, 287, 295, 296, 291, 298, 271, 274, 282, 275,\n",
       "       272, 300, 285, 279, 274, 288, 275, 285, 290, 272, 281, 290, 271,\n",
       "       297, 286, 287, 294, 294, 278, 273, 283, 277, 288, 295, 293, 279,\n",
       "       288, 272, 292, 285, 276, 285, 293, 271, 272, 276, 295, 296, 280,\n",
       "       276, 288, 272, 287, 283, 281, 295, 300, 277, 288, 278, 300, 293,\n",
       "       277, 285, 299, 299, 300, 277, 275, 300, 291, 276, 298, 286, 299,\n",
       "       297, 289, 276, 271, 297, 276, 281, 278, 272, 283, 281, 299, 277,\n",
       "       292, 298, 281, 286, 299, 285, 272, 278, 273, 271, 299, 294, 293,\n",
       "       292, 277, 294, 274, 291, 278, 299, 275, 284, 299, 278, 291, 292,\n",
       "       274, 283, 273, 288, 290, 276, 294, 277, 292, 273, 298, 275, 297,\n",
       "       271, 275, 294, 293, 272, 286, 286, 281, 277, 275, 274, 294, 273,\n",
       "       287, 285, 274, 271, 277, 291, 271, 281, 279, 272, 290, 278, 277,\n",
       "       283, 299, 275, 274, 277, 292, 275, 288, 275, 299, 288, 294, 293,\n",
       "       275, 287, 289, 288, 292, 292, 283, 285, 281, 272, 271, 299, 278,\n",
       "       300, 276, 276, 281, 288, 281, 291, 295, 281, 271, 276, 294, 284,\n",
       "       289, 300, 294, 292, 284, 280, 294, 280, 278, 271, 300, 279, 297,\n",
       "       287, 282, 285, 290, 293, 285, 276, 294, 290, 274, 292, 284, 295,\n",
       "       296, 299, 271, 283, 271, 282, 285, 274, 300, 271, 274, 274, 300,\n",
       "       271, 279, 272, 279, 294, 273, 283, 287, 271, 285, 292, 293, 283,\n",
       "       285, 289, 282, 281, 300, 293, 272, 297, 283, 294, 277, 291, 293,\n",
       "       283, 277, 273, 286, 287, 281, 286, 288, 297, 276, 299, 293, 274,\n",
       "       286, 294, 298, 277, 277, 285, 293, 280, 299, 297, 285, 281, 288,\n",
       "       282, 271, 292, 293, 276, 288, 276, 278, 300, 280, 286, 283, 299,\n",
       "       295, 277, 280, 285, 274, 294, 280, 295, 271, 296, 283, 297, 297,\n",
       "       284, 272, 297, 271, 275, 271, 299, 290, 299, 294, 285, 288, 276,\n",
       "       283, 278, 289, 271, 293, 294, 299, 298, 286, 277, 290, 278, 289,\n",
       "       271, 274, 288, 297, 297, 290, 290, 290, 276, 291, 277, 292, 272,\n",
       "       290, 299, 288, 278, 281, 278, 283, 272, 280, 276, 281, 287, 290,\n",
       "       300, 294, 298, 274, 288, 290, 273, 272, 285, 297, 277, 285, 297,\n",
       "       300, 276, 291, 299, 288, 271, 294, 273, 284, 279, 277, 273, 273,\n",
       "       296, 300, 273, 284, 274, 273, 287, 287, 274, 279, 300, 279, 294,\n",
       "       273, 271, 278, 283, 289, 280, 284, 292, 297, 274, 272, 286, 280,\n",
       "       277, 298, 271, 294, 300, 295, 300, 284, 273, 291, 278, 274, 296,\n",
       "       283, 300, 281, 296, 286, 300, 297, 279, 298, 277, 284, 299, 276,\n",
       "       300, 274, 271, 295, 293, 280, 284, 285, 274, 271, 282, 279, 298,\n",
       "       286, 283, 299, 283, 294, 298, 273, 274, 271, 273, 294, 291, 292,\n",
       "       295, 272, 275, 275, 273, 293, 279, 288, 300, 298, 297, 283, 284,\n",
       "       293, 277, 288, 275, 300, 278, 297, 293, 292, 286, 275, 272, 273,\n",
       "       291, 279, 280, 289, 289, 271, 298, 282, 287, 277, 287, 292, 274,\n",
       "       288, 290, 297, 278, 274, 282, 296, 291, 292, 277, 285, 282, 277,\n",
       "       296, 279, 279, 273, 284, 280, 284, 276, 288, 295, 290, 285, 281,\n",
       "       272, 279, 296, 275, 275, 287, 285, 295, 287, 285, 272, 296, 290,\n",
       "       279, 300, 279, 271, 289, 288, 297, 274, 274, 290, 274, 292, 276,\n",
       "       277, 280, 291, 293, 299, 286, 289, 297, 288, 293, 300, 273, 283,\n",
       "       299, 281, 287, 274, 288, 275, 272, 273, 277, 271, 281, 290, 297,\n",
       "       287, 292, 271, 285, 276, 281, 286, 297, 283, 273, 271, 297, 272,\n",
       "       292, 287, 273, 274, 299, 272, 291, 295, 278, 294, 292, 280, 295,\n",
       "       299, 275, 288, 279, 275, 290, 281, 293, 281, 297, 283, 284, 294,\n",
       "       274, 285, 293, 295, 285, 294, 296, 277, 298, 293, 285, 278, 274,\n",
       "       282, 274, 297, 300, 274, 289, 290, 276, 278, 293, 276, 298, 291,\n",
       "       290, 288, 292, 288, 299, 286, 282, 277, 276, 297, 288, 292, 279,\n",
       "       280, 273, 299, 291, 294, 300, 297, 272, 290, 279, 297, 282, 276,\n",
       "       278, 294, 300, 281, 273, 299, 278, 280, 294, 288, 292, 278, 276,\n",
       "       271, 292, 297, 289, 294, 277, 275, 286, 293, 290, 275, 293, 293,\n",
       "       297, 286, 295, 287, 275, 282, 276, 288, 273, 294, 274, 299, 277,\n",
       "       296, 297, 272, 289, 290, 299, 281, 272, 277, 287, 290, 271, 296,\n",
       "       279, 279, 294, 296, 288, 291, 272, 282, 294, 277, 272, 291, 272,\n",
       "       294, 297, 285, 279, 279, 277, 290, 280, 273, 291, 293, 294, 290,\n",
       "       283, 271, 292, 294, 297, 285, 281, 298, 294, 273, 274, 288, 293,\n",
       "       293, 296, 299, 286, 280, 278, 281, 294, 296, 275, 282, 288, 273,\n",
       "       285, 288, 274, 275, 296, 281, 293, 294, 290, 288, 280, 288, 299,\n",
       "       278, 296, 297, 280, 293, 294, 295, 272, 275, 296, 295, 280, 275,\n",
       "       290, 279, 288, 288, 288, 274, 293, 286, 292, 272, 299, 298, 294,\n",
       "       290, 299, 293, 293, 292, 294, 292, 272, 272, 286, 300, 280, 275,\n",
       "       281, 299, 298, 272, 300, 273, 277])"
      ]
     },
     "execution_count": 31,
     "metadata": {},
     "output_type": "execute_result"
    }
   ],
   "source": [
    "np.random.choice(fertilized, size = len(fertilized))"
   ]
  },
  {
   "cell_type": "code",
   "execution_count": 32,
   "id": "3f20de8b",
   "metadata": {},
   "outputs": [
    {
     "data": {
      "text/plain": [
       "array([297, 278, 286, 287, 298, 278, 275, 280, 277, 276, 272, 292, 286,\n",
       "       278, 289, 283, 296, 288, 280, 296, 281, 281, 290, 281, 272, 286,\n",
       "       288, 287, 291, 273, 274, 287, 273, 296, 291, 281, 283, 280, 300,\n",
       "       296, 290, 296, 271, 291, 290, 285, 287, 283, 271, 277, 276, 277,\n",
       "       296, 278, 294, 276, 286, 300, 288, 290, 284, 281, 279, 290, 283,\n",
       "       275, 286, 298, 297, 274, 284, 284, 298, 278, 272, 291, 294, 296,\n",
       "       282, 276, 294, 290, 290, 297, 292, 284, 288, 275, 271, 290, 271,\n",
       "       300, 280, 291, 277, 297, 300, 293, 275, 284, 297, 277, 279, 295,\n",
       "       286, 277, 285, 281, 294, 275, 295, 287, 282, 272, 300, 282, 284,\n",
       "       285, 277, 294, 281, 294, 294, 272, 294, 299, 284, 292, 297, 290,\n",
       "       289, 299, 292, 273, 271, 279, 274, 274, 280, 286, 297, 297, 291,\n",
       "       296, 291, 293, 299, 295, 295, 277, 290, 282, 283, 296, 280, 296,\n",
       "       284, 296, 280, 277, 275, 280, 286, 294, 276, 299, 272, 285, 280,\n",
       "       279, 293, 298, 292, 295, 277, 290, 291, 276, 276, 285, 297, 291,\n",
       "       279, 287, 280, 284, 281, 278, 298, 282, 291, 272, 287, 284, 290,\n",
       "       271, 281, 285, 290, 300, 296, 292, 284, 293, 293, 293, 299, 290,\n",
       "       293, 288, 299, 288, 292, 271, 286, 272, 282, 284, 283, 274, 290,\n",
       "       288, 280, 300, 281, 288, 274, 287, 296, 285, 294, 286, 294, 295,\n",
       "       274, 274, 287, 294, 298, 283, 282, 276, 285, 284, 282, 286, 276,\n",
       "       277, 274, 286, 289, 283, 285, 287, 297, 290, 274, 288, 298, 272,\n",
       "       283, 298, 291, 287, 299, 297, 287, 286, 288, 274, 291, 282, 296,\n",
       "       294, 291, 273, 280, 275, 274, 274, 294, 295, 278, 289, 271, 283,\n",
       "       293, 285, 272, 285, 288, 271, 272, 279, 296, 273, 277, 278, 288,\n",
       "       277, 274, 282, 298, 300, 296, 297, 292, 290, 271, 295, 288, 272,\n",
       "       273, 285, 298, 286, 296, 296, 293, 290, 299, 291, 285, 283, 284,\n",
       "       298, 288, 298, 290, 300, 294, 273, 299, 271, 300, 279, 295, 289,\n",
       "       271, 299, 293, 281, 297, 283, 294, 294, 274, 282, 300, 277, 283,\n",
       "       275, 289, 273, 280, 272, 295, 288, 285, 297, 299, 295, 293, 294,\n",
       "       293, 283, 292, 281, 287, 288, 272, 296, 279, 278, 277, 277, 294,\n",
       "       295, 277, 274, 287, 297, 282, 293, 293, 275, 273, 288, 281, 273,\n",
       "       293, 272, 288, 276, 292, 293, 286, 296, 273, 290, 293, 292, 272,\n",
       "       273, 279, 273, 290, 295, 286, 292, 290, 287, 276, 300, 278, 291,\n",
       "       282, 278, 288, 275, 278, 277, 289, 294, 287, 284, 277, 296, 298,\n",
       "       300, 298, 283, 276, 278, 281, 300, 280, 286, 276, 273, 292, 300,\n",
       "       279, 288, 294, 293, 296, 295, 283, 275, 292, 276, 279, 296, 293,\n",
       "       278, 286, 293, 297, 293, 299, 276, 300, 283, 281, 296, 274, 291,\n",
       "       298, 282, 298, 289, 286, 287, 271, 300, 299, 286, 300, 294, 278,\n",
       "       300, 296, 288, 277, 295, 287, 273, 277, 280, 293, 276, 296, 289,\n",
       "       277, 299, 293, 298, 274, 275, 282, 281, 292, 288, 287, 292, 286,\n",
       "       283, 278, 272, 296, 282, 281, 290, 284, 290, 286, 271, 296, 271,\n",
       "       287, 286, 294, 295, 287, 297, 293, 292, 286, 291, 278, 299, 271,\n",
       "       296, 299, 275, 285, 278, 291, 294, 275, 276, 282, 273, 284, 287,\n",
       "       298, 282, 292, 271, 300, 275, 293, 299, 280, 274, 291, 291, 281,\n",
       "       293, 287, 286, 282, 285, 279, 297, 274, 299, 280, 277, 290, 289,\n",
       "       297, 280, 287, 299, 290, 298, 284, 295, 295, 282, 271, 293, 282,\n",
       "       287, 293, 298, 282, 276, 282, 284, 297, 292, 272, 285, 271, 297,\n",
       "       300, 295, 283, 293, 278, 286, 291, 283, 284, 289, 274, 274, 277,\n",
       "       279, 292, 279, 291, 276, 294, 282, 295, 287, 285, 289, 273, 291,\n",
       "       284, 293, 292, 289, 282, 291, 291, 274, 281, 271, 298, 293, 298,\n",
       "       279, 273, 285, 290, 288, 294, 300, 274, 274, 288, 271, 298, 291,\n",
       "       281, 290, 284, 271, 299, 277, 283, 293, 285, 299, 285, 278, 296,\n",
       "       290, 300, 288, 298, 292, 274, 281, 290, 272, 298, 277, 272, 286,\n",
       "       293, 300, 276, 280, 292, 288, 274, 299, 282, 300, 283, 291, 289,\n",
       "       299, 289, 287, 297, 271, 287, 280, 277, 286, 283, 275, 275, 286,\n",
       "       275, 272, 283])"
      ]
     },
     "execution_count": 32,
     "metadata": {},
     "output_type": "execute_result"
    }
   ],
   "source": [
    "np.random.choice(not_fertilized, size = len(not_fertilized))"
   ]
  },
  {
   "cell_type": "code",
   "execution_count": 34,
   "id": "e4fbf47d",
   "metadata": {},
   "outputs": [],
   "source": [
    "def resample(orig_sample):\n",
    "    return np.random.choice(orig_sample, size = len(orig_sample))"
   ]
  },
  {
   "cell_type": "code",
   "execution_count": 37,
   "id": "7278e56d",
   "metadata": {},
   "outputs": [],
   "source": [
    "def bootstrap(orig_sample, reps):\n",
    "    means = np.array([])\n",
    "    \n",
    "    for i in range(reps):\n",
    "        new_sample = resample(orig_sample)\n",
    "        \n",
    "        new_mean = np.mean(new_sample)\n",
    "        \n",
    "        means = np.append(means, new_mean)\n",
    "        \n",
    "    return means"
   ]
  },
  {
   "cell_type": "code",
   "execution_count": 40,
   "id": "2176dda4",
   "metadata": {},
   "outputs": [],
   "source": [
    "fertilized_means = bootstrap(fertilized, 10000)\n",
    "\n",
    "not_fertilized_means = bootstrap(not_fertilized, 10000)\n",
    "\n",
    "estimates = fertilized_means - not_fertilized_means\n"
   ]
  },
  {
   "cell_type": "code",
   "execution_count": 41,
   "id": "b90851ce",
   "metadata": {},
   "outputs": [
    {
     "data": {
      "text/plain": [
       "array([-0.85677323, -0.30050964, -0.36121031, ..., -0.68638227,\n",
       "       -0.92830821, -0.96024805])"
      ]
     },
     "execution_count": 41,
     "metadata": {},
     "output_type": "execute_result"
    }
   ],
   "source": [
    "estimates"
   ]
  },
  {
   "cell_type": "code",
   "execution_count": 43,
   "id": "a2e09be9",
   "metadata": {},
   "outputs": [
    {
     "data": {
      "image/png": "[encoded data removed]",
      "text/plain": [
       "<Figure size 500x500 with 1 Axes>"
      ]
     },
     "metadata": {},
     "output_type": "display_data"
    }
   ],
   "source": [
    "sn.displot(estimates, kde = False)\n",
    "plt.show()"
   ]
  },
  {
   "cell_type": "code",
   "execution_count": 44,
   "id": "691c77a6",
   "metadata": {},
   "outputs": [
    {
     "data": {
      "text/plain": [
       "(-1.425875476674163, 0.23237517374102623)"
      ]
     },
     "execution_count": 44,
     "metadata": {},
     "output_type": "execute_result"
    }
   ],
   "source": [
    "(np.percentile(estimates, 2.5), np.percentile(estimates, 97.5))"
   ]
  },
  {
   "cell_type": "code",
   "execution_count": null,
   "id": "c9cd3195",
   "metadata": {},
   "outputs": [],
   "source": []
  }
 ],
 "metadata": {
  "kernelspec": {
   "display_name": "Python 3 (ipykernel)",
   "language": "python",
   "name": "python3"
  },
  "language_info": {
   "codemirror_mode": {
    "name": "ipython",
    "version": 3
   },
   "file_extension": ".py",
   "mimetype": "text/x-python",
   "name": "python",
   "nbconvert_exporter": "python",
   "pygments_lexer": "ipython3",
   "version": "3.10.6"
  }
 },
 "nbformat": 4,
 "nbformat_minor": 5
}
